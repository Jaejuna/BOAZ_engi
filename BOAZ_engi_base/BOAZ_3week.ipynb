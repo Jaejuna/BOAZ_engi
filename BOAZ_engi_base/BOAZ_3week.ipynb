{
  "cells": [
    {
      "cell_type": "code",
      "execution_count": 1,
      "metadata": {
        "id": "XkWp52mDFaoQ"
      },
      "outputs": [],
      "source": [
        "# 1.모듈 import\n",
        "import sqlite3\n",
        "\n",
        "# 2.DB 열기\n",
        "conn = sqlite3.connect('BOAZ.db')\n",
        "\n",
        "# 3. cursor(커서) 생성\n",
        "cursor = conn.cursor()"
      ]
    },
    {
      "cell_type": "code",
      "execution_count": 2,
      "metadata": {
        "id": "eTLGdXI2x-6j"
      },
      "outputs": [
        {
          "data": {
            "text/plain": [
              "<sqlite3.Cursor at 0x1ffa345ee40>"
            ]
          },
          "execution_count": 2,
          "metadata": {},
          "output_type": "execute_result"
        }
      ],
      "source": [
        "############# DDL(Data Definition Language)\n",
        "DROP_TABLE = \"\"\" \n",
        "        DROP TABLE IF EXISTS Orders;\"\"\"\n",
        "cursor.execute(DROP_TABLE)"
      ]
    },
    {
      "cell_type": "code",
      "execution_count": 3,
      "metadata": {
        "id": "WPQ2dz8DE2Ln"
      },
      "outputs": [
        {
          "data": {
            "text/plain": [
              "<sqlite3.Cursor at 0x1ffa345ee40>"
            ]
          },
          "execution_count": 3,
          "metadata": {},
          "output_type": "execute_result"
        }
      ],
      "source": [
        "DROP_TABLE = \"\"\" \n",
        "        DROP TABLE IF EXISTS Customer;\"\"\"\n",
        "cursor.execute(DROP_TABLE)"
      ]
    },
    {
      "cell_type": "code",
      "execution_count": 4,
      "metadata": {
        "id": "_AGJiT9_E_QY"
      },
      "outputs": [
        {
          "data": {
            "text/plain": [
              "<sqlite3.Cursor at 0x1ffa345ee40>"
            ]
          },
          "execution_count": 4,
          "metadata": {},
          "output_type": "execute_result"
        }
      ],
      "source": [
        "DROP_TABLE = \"\"\" \n",
        "        DROP TABLE IF EXISTS Book;\"\"\"\n",
        "cursor.execute(DROP_TABLE)"
      ]
    },
    {
      "cell_type": "code",
      "execution_count": 5,
      "metadata": {
        "id": "WCXnY_sKFd0Y"
      },
      "outputs": [],
      "source": [
        "# 4-1. SQL 명령어 작성\n",
        "CREATE_CUSTOMER = \"\"\"\n",
        "    CREATE TABLE IF NOT EXISTS Customer (\n",
        "  custid      INTEGER PRIMARY KEY,  \n",
        "  name        VARCHAR(40),\n",
        "  address     VARCHAR(50),\n",
        "  phone       VARCHAR(20)\n",
        ");\"\"\"\n"
      ]
    },
    {
      "cell_type": "code",
      "execution_count": 6,
      "metadata": {
        "colab": {
          "base_uri": "https://localhost:8080/"
        },
        "id": "rkgwGEOz0Hon",
        "outputId": "46650a25-22a5-4fa8-86d5-df9185dc936c"
      },
      "outputs": [
        {
          "data": {
            "text/plain": [
              "<sqlite3.Cursor at 0x1ffa345ee40>"
            ]
          },
          "execution_count": 6,
          "metadata": {},
          "output_type": "execute_result"
        }
      ],
      "source": [
        "# 5-1. SQL 명령 실행\n",
        "cursor.execute(CREATE_CUSTOMER)"
      ]
    },
    {
      "cell_type": "code",
      "execution_count": 7,
      "metadata": {
        "id": "9d3ulDUuFjsG"
      },
      "outputs": [],
      "source": [
        "# 4-2. SQL 명령어 작성\n",
        "CREATE_BOOK = \"\"\"\n",
        "    CREATE TABLE IF NOT EXISTS Book (\n",
        "      bookid      INTEGER PRIMARY KEY,\n",
        "      bookname    VARCHAR(40),\n",
        "      publisher   VARCHAR(40),\n",
        "      price       INTEGER\n",
        "      );\"\"\"\n"
      ]
    },
    {
      "cell_type": "code",
      "execution_count": 8,
      "metadata": {
        "colab": {
          "base_uri": "https://localhost:8080/"
        },
        "id": "6NnLXekdFhfp",
        "outputId": "0c19aec3-a3b0-47b5-d281-471f6eb5edd8"
      },
      "outputs": [
        {
          "data": {
            "text/plain": [
              "<sqlite3.Cursor at 0x1ffa345ee40>"
            ]
          },
          "execution_count": 8,
          "metadata": {},
          "output_type": "execute_result"
        }
      ],
      "source": [
        "# 5-2. SQL 명령 실행\n",
        "cursor.execute(CREATE_BOOK)"
      ]
    },
    {
      "cell_type": "code",
      "execution_count": 9,
      "metadata": {
        "id": "7Ox64ZjZ0pvv"
      },
      "outputs": [],
      "source": [
        "# 4-3. SQL 명령어 작성\n",
        "CREATE_ORDERS = \"\"\"\n",
        "    CREATE TABLE IF NOT EXISTS Orders (\n",
        "      orderid INTEGER PRIMARY KEY,\n",
        "      custid  INTEGER ,\n",
        "      bookid  INTEGER ,\n",
        "      saleprice INTEGER ,\n",
        "      orderdate date,\n",
        "      FOREIGN KEY (custid) REFERENCES Customer(custid),\n",
        "      FOREIGN KEY (bookid) REFERENCES Book(bookid)\n",
        "    );\"\"\""
      ]
    },
    {
      "cell_type": "code",
      "execution_count": 10,
      "metadata": {
        "colab": {
          "base_uri": "https://localhost:8080/"
        },
        "id": "KK66W1xc0-VW",
        "outputId": "968901bc-9fd1-48a1-b86f-1cf2c41e4108"
      },
      "outputs": [
        {
          "data": {
            "text/plain": [
              "<sqlite3.Cursor at 0x1ffa345ee40>"
            ]
          },
          "execution_count": 10,
          "metadata": {},
          "output_type": "execute_result"
        }
      ],
      "source": [
        "# 5-3. SQL 명령 실행\n",
        "cursor.execute(CREATE_ORDERS)"
      ]
    },
    {
      "cell_type": "code",
      "execution_count": 11,
      "metadata": {
        "colab": {
          "base_uri": "https://localhost:8080/"
        },
        "id": "yPJ5ap5oFiIf",
        "outputId": "9dc9a0d9-adc4-425f-f5d6-daee9c506e30"
      },
      "outputs": [
        {
          "name": "stdout",
          "output_type": "stream",
          "text": [
            "table\n",
            "Customer\n",
            "Customer\n",
            "2\n",
            "CREATE TABLE Customer (\n",
            "  custid      INTEGER PRIMARY KEY,  \n",
            "  name        VARCHAR(40),\n",
            "  address     VARCHAR(50),\n",
            "  phone       VARCHAR(20)\n",
            ")\n",
            "----------------------\n",
            "table\n",
            "Book\n",
            "Book\n",
            "3\n",
            "CREATE TABLE Book (\n",
            "      bookid      INTEGER PRIMARY KEY,\n",
            "      bookname    VARCHAR(40),\n",
            "      publisher   VARCHAR(40),\n",
            "      price       INTEGER\n",
            "      )\n",
            "----------------------\n",
            "table\n",
            "Orders\n",
            "Orders\n",
            "4\n",
            "CREATE TABLE Orders (\n",
            "      orderid INTEGER PRIMARY KEY,\n",
            "      custid  INTEGER ,\n",
            "      bookid  INTEGER ,\n",
            "      saleprice INTEGER ,\n",
            "      orderdate date,\n",
            "      FOREIGN KEY (custid) REFERENCES Customer(custid),\n",
            "      FOREIGN KEY (bookid) REFERENCES Book(bookid)\n",
            "    )\n",
            "----------------------\n"
          ]
        }
      ],
      "source": [
        "# 잘 실행되었는지 Table 출력하여 확인\n",
        "cursor.execute('SELECT * FROM sqlite_master WHERE type=\"table\";')\n",
        "table_list = cursor.fetchall()\n",
        "for i in table_list:\n",
        "    for j in i:\n",
        "        print(j)\n",
        "    print('----------------------')"
      ]
    },
    {
      "cell_type": "code",
      "execution_count": 11,
      "metadata": {
        "id": "m77ZKRnvGiMl"
      },
      "outputs": [],
      "source": [
        "########################### DML(Data Manipulation Language)\n",
        "# insert sql 작성\n",
        "INSERT_B_SQL = 'INSERT INTO Book(bookid,bookname,publisher,price) VALUES (?,?,?,?);'\n",
        "\n",
        "Book = ((1, '축구의 역사', '굿스포츠', 7000),\n",
        "(2, '축구아는 여자', '나무수', 13000),\n",
        "(3, '축구의 이해', '대한미디어', 22000),\n",
        "(4, '골프 바이블', '대한미디어', 35000),\n",
        "(5, '피겨 교본', '굿스포츠', 8000),\n",
        "(6, '역도 단계별기술', '굿스포츠', 6000),\n",
        "(7, '야구의 추억', '이상미디어', 20000),\n",
        "(8, '야구를 부탁해', '이상미디어', 13000),\n",
        "(9, '올림픽 이야기', '삼성당', 7500),\n",
        "(10, 'Olympic Champions', 'Pearson', 13000))\n",
        "\n",
        "# 여러개 값 추가\n",
        "cursor.executemany(INSERT_B_SQL,Book)\n",
        "conn.commit()"
      ]
    },
    {
      "cell_type": "code",
      "execution_count": 12,
      "metadata": {
        "colab": {
          "base_uri": "https://localhost:8080/"
        },
        "id": "8OvLufB5IGkf",
        "outputId": "a84c2c67-776e-4133-d99b-0f43a986ba89"
      },
      "outputs": [
        {
          "name": "stdout",
          "output_type": "stream",
          "text": [
            "(1, '축구의 역사', '굿스포츠', 7000)\n",
            "(2, '축구아는 여자', '나무수', 13000)\n",
            "(3, '축구의 이해', '대한미디어', 22000)\n",
            "(4, '골프 바이블', '대한미디어', 35000)\n",
            "(5, '피겨 교본', '굿스포츠', 8000)\n",
            "(6, '역도 단계별기술', '굿스포츠', 6000)\n",
            "(7, '야구의 추억', '이상미디어', 20000)\n",
            "(8, '야구를 부탁해', '이상미디어', 13000)\n",
            "(9, '올림픽 이야기', '삼성당', 7500)\n",
            "(10, 'Olympic Champions', 'Pearson', 13000)\n"
          ]
        }
      ],
      "source": [
        "# BOOOK T : 데이터 확인\n",
        "cursor.execute('SELECT * FROM BOOK;')\n",
        "item_list = cursor.fetchall()\n",
        "for i in item_list:\n",
        "    print(i)\n"
      ]
    },
    {
      "cell_type": "code",
      "execution_count": 13,
      "metadata": {
        "id": "NpH8csFXZxtZ"
      },
      "outputs": [],
      "source": [
        "# insert sql 작성\n",
        "INSERT_C_SQL = 'INSERT INTO Customer(custid,name,address,phone) VALUES (?,?,?,?);'\n",
        "\n",
        "customers = ((1, '박지성', '영국 맨체스타', '000-5000-0001'),\n",
        "(2, '김연아', '대한민국 서울', '000-6000-0001'),  \n",
        "(3, '손흥민', '영국 맨체스타', '000-7000-0001'),\n",
        "(4, '추신수', '미국 텍사스', '000-8000-0001'),\n",
        "(5, '박세리', '대한민국 대전','NULL'))\n",
        "\n",
        "# 여러개 값 추가\n",
        "cursor.executemany(INSERT_C_SQL,customers)\n",
        "conn.commit()"
      ]
    },
    {
      "cell_type": "code",
      "execution_count": 14,
      "metadata": {
        "colab": {
          "base_uri": "https://localhost:8080/"
        },
        "id": "aEBuNdgbbueL",
        "outputId": "1671e347-fa12-4f7a-ad05-3b37ebf156c3"
      },
      "outputs": [
        {
          "name": "stdout",
          "output_type": "stream",
          "text": [
            "(1, '박지성', '영국 맨체스타', '000-5000-0001')\n",
            "(2, '김연아', '대한민국 서울', '000-6000-0001')\n",
            "(3, '손흥민', '영국 맨체스타', '000-7000-0001')\n",
            "(4, '추신수', '미국 텍사스', '000-8000-0001')\n",
            "(5, '박세리', '대한민국 대전', 'NULL')\n"
          ]
        }
      ],
      "source": [
        "# CUSTOMER T : 데이터 확인\n",
        "cursor.execute('SELECT * FROM CUSTOMER;')\n",
        "item_list = cursor.fetchall()\n",
        "for i in item_list:\n",
        "    print(i)"
      ]
    },
    {
      "cell_type": "code",
      "execution_count": 15,
      "metadata": {
        "id": "e-7aVsY5b5WF"
      },
      "outputs": [],
      "source": [
        "from sqlite3.dbapi2 import Date\n",
        "\n",
        "# insert sql 작성\n",
        "INSERT_O_SQL = 'INSERT INTO ORDERS(orderid, custid,bookid,saleprice,orderdate) VALUES (?,?,?,?,?);'\n",
        "\n",
        "Orders = ((1, 1, 1, 6000, '2023-06-01'),\n",
        "(2, 1, 3, 21000, '2023-06-03'),\n",
        "(3, 2, 5, 8000, '2023-06-03'),\n",
        "(4, 3, 6, 6000, '2023-06-04'),\n",
        "(5, 4, 7, 20000,'2023-06-05'),\n",
        "(6, 1, 2, 12000, '2023-06-07'),\n",
        "(7, 4, 8, 13000,'2023-06-07'),\n",
        "(8, 3, 10, 12000, '2023-06-08'),\n",
        "(9, 2, 10, 7000, '2023-06-09'),\n",
        "(10, 3, 8, 13000,'2023-06-10'))\n",
        "\n",
        "# 여러개 값 추가\n",
        "cursor.executemany(INSERT_O_SQL,Orders)\n",
        "conn.commit()"
      ]
    },
    {
      "cell_type": "code",
      "execution_count": 16,
      "metadata": {
        "colab": {
          "base_uri": "https://localhost:8080/"
        },
        "id": "1TOJc-qSGqcD",
        "outputId": "ae740eba-5ba6-4e37-fc3e-df7ac9f1892d"
      },
      "outputs": [
        {
          "name": "stdout",
          "output_type": "stream",
          "text": [
            "(1, 1, 1, 6000, '2023-06-01')\n",
            "(2, 1, 3, 21000, '2023-06-03')\n",
            "(3, 2, 5, 8000, '2023-06-03')\n",
            "(4, 3, 6, 6000, '2023-06-04')\n",
            "(5, 4, 7, 20000, '2023-06-05')\n",
            "(6, 1, 2, 12000, '2023-06-07')\n",
            "(7, 4, 8, 13000, '2023-06-07')\n",
            "(8, 3, 10, 12000, '2023-06-08')\n",
            "(9, 2, 10, 7000, '2023-06-09')\n",
            "(10, 3, 8, 13000, '2023-06-10')\n"
          ]
        }
      ],
      "source": [
        "# ORDER T : 데이터 확인\n",
        "cursor.execute('SELECT * FROM ORDERS;')\n",
        "item_list = cursor.fetchall()\n",
        "for i in item_list:\n",
        "    print(i)"
      ]
    },
    {
      "cell_type": "code",
      "execution_count": 17,
      "metadata": {
        "colab": {
          "base_uri": "https://localhost:8080/"
        },
        "id": "aAQnua_EgJxE",
        "outputId": "7048890e-ddef-43bb-a626-a81d36f878c1"
      },
      "outputs": [
        {
          "name": "stdout",
          "output_type": "stream",
          "text": [
            "(10,)\n"
          ]
        }
      ],
      "source": [
        "# 도서의 총 개수\n",
        "cursor.execute('SELECT count(bookid) FROM book;')\n",
        "item_list = cursor.fetchall()\n",
        "for i in item_list:\n",
        "  print(i)"
      ]
    },
    {
      "cell_type": "code",
      "execution_count": 18,
      "metadata": {
        "colab": {
          "base_uri": "https://localhost:8080/"
        },
        "id": "ihpg7XmV2tYP",
        "outputId": "48971e73-4b23-4f22-ea96-1b682b624664"
      },
      "outputs": [
        {
          "name": "stdout",
          "output_type": "stream",
          "text": [
            "(2, '축구아는 여자', '나무수', 13000)\n",
            "(8, '야구를 부탁해', '이상미디어', 13000)\n",
            "(10, 'Olympic Champions', 'Pearson', 13000)\n"
          ]
        }
      ],
      "source": [
        "# 가격이 13000원인 도서의 정보\n",
        "cursor.execute(\"SELECT * FROM book where price = 13000;\")\n",
        "item_list = cursor.fetchall()\n",
        "for i in item_list:\n",
        "  print(i)\n",
        "cursor.close()"
      ]
    },
    {
      "cell_type": "code",
      "execution_count": 19,
      "metadata": {
        "colab": {
          "base_uri": "https://localhost:8080/"
        },
        "id": "MyVo1Nqr2Vhj",
        "outputId": "10c1c449-a180-4ec4-bbd3-d43a2ec09553"
      },
      "outputs": [
        {
          "name": "stdout",
          "output_type": "stream",
          "text": [
            "(6,)\n"
          ]
        }
      ],
      "source": [
        "# 마당서점에 도서를 출고하는 출판사의 총 개수\n",
        "cursor = conn.cursor()\n",
        "cursor.execute(\"SELECT count(distinct publisher) FROM book;\")\n",
        "item_list = cursor.fetchall()\n",
        "for i in item_list:\n",
        "  print(i)"
      ]
    },
    {
      "cell_type": "code",
      "execution_count": 20,
      "metadata": {
        "colab": {
          "base_uri": "https://localhost:8080/"
        },
        "id": "qjuV8xy6zafz",
        "outputId": "748b6acd-cdbb-4e27-ffde-93c09f1df6d9"
      },
      "outputs": [
        {
          "name": "stdout",
          "output_type": "stream",
          "text": [
            "(4, 3, 6, 6000, '2023-06-04')\n",
            "(5, 4, 7, 20000, '2023-06-05')\n",
            "(6, 1, 2, 12000, '2023-06-07')\n",
            "(7, 4, 8, 13000, '2023-06-07')\n"
          ]
        }
      ],
      "source": [
        "# 2023.06.04~2023.06.07 사이에 주문받은 도서의 주문번호\n",
        "cursor.execute(\"SELECT * FROM orders WHERE orderdate between '2023-06-04' and '2023-06-07';\")\n",
        "item_list = cursor.fetchall()\n",
        "for i in item_list:\n",
        "  print(i)"
      ]
    },
    {
      "cell_type": "code",
      "execution_count": 21,
      "metadata": {
        "colab": {
          "base_uri": "https://localhost:8080/"
        },
        "id": "_nCMXwZlhLF-",
        "outputId": "d9edfa7b-6c16-40c1-a585-188d8e06f589"
      },
      "outputs": [
        {
          "name": "stdout",
          "output_type": "stream",
          "text": [
            "('김연아', '대한민국 서울')\n"
          ]
        }
      ],
      "source": [
        "# 성이 '김'씨이고 이름이‘아'로 끝나는 고객의 이름과 주소\n",
        "cursor.execute(\"SELECT name, address FROM customer WHERE name LIKE '김%아';\")\n",
        "item_list = cursor.fetchall()\n",
        "for i in item_list:\n",
        "  print(i)"
      ]
    },
    {
      "cell_type": "code",
      "execution_count": 22,
      "metadata": {
        "colab": {
          "base_uri": "https://localhost:8080/"
        },
        "id": "O3CofvIMURoq",
        "outputId": "a6b95989-ff51-44f9-ec15-70a1f52ccc0a"
      },
      "outputs": [
        {
          "name": "stdout",
          "output_type": "stream",
          "text": [
            "('Pearson', 1)\n",
            "('굿스포츠', 3)\n",
            "('나무수', 1)\n",
            "('대한미디어', 2)\n",
            "('삼성당', 1)\n",
            "('이상미디어', 2)\n"
          ]
        }
      ],
      "source": [
        "# 출판사 당 입고 도서 권수\n",
        "cursor.execute(\"SELECT publisher, count(*) FROM Book GROUP BY publisher;\")\n",
        "item_list = cursor.fetchall()\n",
        "for i in item_list:\n",
        "  print(i)"
      ]
    },
    {
      "cell_type": "code",
      "execution_count": 23,
      "metadata": {
        "id": "DseJnZp5Kms_"
      },
      "outputs": [],
      "source": [
        "# 손흥민의 주소 : 맨체스터 -> 토트넘\n",
        "UPDATE_SQL = \"UPDATE customer set address = '영국 토트넘' WHERE name = '손흥민';\"\n",
        "cursor.execute(UPDATE_SQL)\n",
        "\n",
        "conn.commit()"
      ]
    },
    {
      "cell_type": "code",
      "execution_count": 24,
      "metadata": {
        "colab": {
          "base_uri": "https://localhost:8080/"
        },
        "id": "orqEPSjoLXK7",
        "outputId": "d660fdf7-e53f-4e89-8edd-36ef7057f4eb"
      },
      "outputs": [
        {
          "name": "stdout",
          "output_type": "stream",
          "text": [
            "(1, '박지성', '영국 맨체스타', '000-5000-0001')\n",
            "(2, '김연아', '대한민국 서울', '000-6000-0001')\n",
            "(3, '손흥민', '영국 토트넘', '000-7000-0001')\n",
            "(4, '추신수', '미국 텍사스', '000-8000-0001')\n",
            "(5, '박세리', '대한민국 대전', 'NULL')\n"
          ]
        }
      ],
      "source": [
        "# 확인\n",
        "cursor.execute(\"SELECT * FROM customer;\")\n",
        "item_list = cursor.fetchall()\n",
        "for i in item_list:\n",
        "  print(i)"
      ]
    },
    {
      "cell_type": "code",
      "execution_count": 25,
      "metadata": {
        "id": "iHzxPfqqMn-j"
      },
      "outputs": [],
      "source": [
        "# NULL 값 삭제\n",
        "DELETE_SQL = 'DELETE FROM customer WHERE phone = \"NULL\";'\n",
        "cursor.execute(DELETE_SQL)\n",
        "conn.commit()\n"
      ]
    },
    {
      "cell_type": "code",
      "execution_count": 26,
      "metadata": {
        "colab": {
          "base_uri": "https://localhost:8080/"
        },
        "id": "gmu3Rf2kM6JU",
        "outputId": "8b9f9ade-402c-4170-f057-460e1eae90eb"
      },
      "outputs": [
        {
          "name": "stdout",
          "output_type": "stream",
          "text": [
            "(1, '박지성', '영국 맨체스타', '000-5000-0001')\n",
            "(2, '김연아', '대한민국 서울', '000-6000-0001')\n",
            "(3, '손흥민', '영국 토트넘', '000-7000-0001')\n",
            "(4, '추신수', '미국 텍사스', '000-8000-0001')\n"
          ]
        }
      ],
      "source": [
        "# 확인\n",
        "cursor.execute(\"SELECT * FROM customer;\")\n",
        "item_list = cursor.fetchall()\n",
        "for i in item_list:\n",
        "  print(i)"
      ]
    },
    {
      "cell_type": "code",
      "execution_count": 27,
      "metadata": {
        "id": "03rN_yb0U0yQ"
      },
      "outputs": [],
      "source": [
        "# 손흥민의 주소 : 맨체스터 -> 토트넘\n",
        "INSERT_SQL = \"INSERT INTO customer(custid, name, address, phone) VALUES (5,'이강인','스페인 마요르카','000-9000-0001');\"\n",
        "cursor.execute(INSERT_SQL)\n",
        "\n",
        "conn.commit()"
      ]
    },
    {
      "cell_type": "code",
      "execution_count": 28,
      "metadata": {
        "colab": {
          "base_uri": "https://localhost:8080/"
        },
        "id": "HimlM70OVXDj",
        "outputId": "f8526b31-36fb-485f-d82f-e42a4d26b587"
      },
      "outputs": [
        {
          "name": "stdout",
          "output_type": "stream",
          "text": [
            "(1, '박지성', '영국 맨체스타', '000-5000-0001')\n",
            "(2, '김연아', '대한민국 서울', '000-6000-0001')\n",
            "(3, '손흥민', '영국 토트넘', '000-7000-0001')\n",
            "(4, '추신수', '미국 텍사스', '000-8000-0001')\n",
            "(5, '이강인', '스페인 마요르카', '000-9000-0001')\n"
          ]
        }
      ],
      "source": [
        "# 이강인 정보 추가 삽입\n",
        "cursor.execute(\"SELECT * FROM customer;\")\n",
        "item_list = cursor.fetchall()\n",
        "for i in item_list:\n",
        "  print(i)"
      ]
    },
    {
      "cell_type": "code",
      "execution_count": 29,
      "metadata": {
        "id": "3aw9jPXPGKEv"
      },
      "outputs": [],
      "source": [
        "# 6. DB 닫기\n",
        "conn.close()"
      ]
    }
  ],
  "metadata": {
    "colab": {
      "provenance": []
    },
    "kernelspec": {
      "display_name": "Python 3",
      "language": "python",
      "name": "python3"
    },
    "language_info": {
      "codemirror_mode": {
        "name": "ipython",
        "version": 3
      },
      "file_extension": ".py",
      "mimetype": "text/x-python",
      "name": "python",
      "nbconvert_exporter": "python",
      "pygments_lexer": "ipython3",
      "version": "3.11.1"
    },
    "vscode": {
      "interpreter": {
        "hash": "d417a21d97a2e6b8832d21dc44f5cbe4be6e18325f874a8bb8484565b928cd54"
      }
    }
  },
  "nbformat": 4,
  "nbformat_minor": 0
}
